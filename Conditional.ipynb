{
 "cells": [
  {
   "cell_type": "markdown",
   "id": "df8ed261",
   "metadata": {},
   "source": [
    "a =10\n",
    "if condition:\n",
    "    excution"
   ]
  },
  {
   "cell_type": "code",
   "execution_count": 4,
   "id": "6f6e6466",
   "metadata": {},
   "outputs": [
    {
     "name": "stdout",
     "output_type": "stream",
     "text": [
      "a is positive number\n"
     ]
    }
   ],
   "source": [
    "a =10\n",
    "if a>0:\n",
    "    print(\"a is positive number\")"
   ]
  },
  {
   "cell_type": "code",
   "execution_count": 6,
   "id": "94df08a5",
   "metadata": {},
   "outputs": [
    {
     "name": "stdout",
     "output_type": "stream",
     "text": [
      "a is negative\n"
     ]
    }
   ],
   "source": [
    "a =-10\n",
    "if a>0:\n",
    "    print(\"a is positive number\")\n",
    "else:\n",
    "        print(\"a is negative\")"
   ]
  },
  {
   "cell_type": "code",
   "execution_count": 8,
   "id": "d1fbd722",
   "metadata": {},
   "outputs": [
    {
     "name": "stdout",
     "output_type": "stream",
     "text": [
      "a is zero\n"
     ]
    }
   ],
   "source": [
    "a =0\n",
    "if a>0:\n",
    "    print(\"a is positive\")\n",
    "elif a==0:\n",
    "    print(\"a is zero\")\n",
    "else:\n",
    "    print(\"a is negative\")"
   ]
  },
  {
   "cell_type": "code",
   "execution_count": 1,
   "id": "e949f259",
   "metadata": {
    "scrolled": true
   },
   "outputs": [
    {
     "name": "stdout",
     "output_type": "stream",
     "text": [
      "Enter a number:9\n",
      "a is positive number\n"
     ]
    }
   ],
   "source": [
    "a =int(input(\"Enter a number:\"))\n",
    "if a>0:\n",
    "    print(\"a is positive number\")"
   ]
  },
  {
   "cell_type": "code",
   "execution_count": 16,
   "id": "afb5032b",
   "metadata": {},
   "outputs": [
    {
     "name": "stdout",
     "output_type": "stream",
     "text": [
      "enter a number :-12\n",
      "A is negative number\n"
     ]
    }
   ],
   "source": [
    "a =int(input(\"enter a number :\"))\n",
    "if a>0:\n",
    "    print(\"A is positive number\")\n",
    "else:\n",
    "    print(\"A is negative number\")"
   ]
  },
  {
   "cell_type": "code",
   "execution_count": 25,
   "id": "37e60d33",
   "metadata": {},
   "outputs": [
    {
     "name": "stdout",
     "output_type": "stream",
     "text": [
      "Enter a number :12\n",
      "a is positive number\n"
     ]
    }
   ],
   "source": [
    "positive_number =[]\n",
    "negative_number =[]\n",
    "a =int(input(\"Enter a number :\"))\n",
    "if a>0:\n",
    "    positive_number.append(a)\n",
    "    print(\"a is positive number\")\n",
    "elif a==0:\n",
    "    print(\"a is zero\")\n",
    "else:\n",
    "    negative_number.append(a)\n",
    "    print(\"a is negative number\")"
   ]
  },
  {
   "cell_type": "code",
   "execution_count": 26,
   "id": "c857c1ea",
   "metadata": {},
   "outputs": [
    {
     "data": {
      "text/plain": [
       "[12]"
      ]
     },
     "execution_count": 26,
     "metadata": {},
     "output_type": "execute_result"
    }
   ],
   "source": [
    "positive_number"
   ]
  },
  {
   "cell_type": "code",
   "execution_count": 28,
   "id": "f912605d",
   "metadata": {},
   "outputs": [
    {
     "name": "stdout",
     "output_type": "stream",
     "text": [
      "Enter a number :13\n",
      "this is odd number\n"
     ]
    }
   ],
   "source": [
    "a =int(input(\"Enter a number :\"))\n",
    "if a %2 ==0:\n",
    "    print(\"this is even number\")\n",
    "else:\n",
    "    print(\"this is odd number\")"
   ]
  },
  {
   "cell_type": "code",
   "execution_count": 30,
   "id": "748a460d",
   "metadata": {},
   "outputs": [
    {
     "name": "stdout",
     "output_type": "stream",
     "text": [
      "Enter a number :-1\n",
      "a is negative\n"
     ]
    }
   ],
   "source": [
    "a =int(input(\"Enter a number :\"))\n",
    "if a>=0:\n",
    "    if a>0:\n",
    "        print(\"a is positive\")\n",
    "    else:\n",
    "        print(\"a is zero\")\n",
    "else:\n",
    "    print(\"a is negative\")"
   ]
  },
  {
   "cell_type": "code",
   "execution_count": 3,
   "id": "f33dfaae",
   "metadata": {},
   "outputs": [
    {
     "data": {
      "text/plain": [
       "[1, 2, 3, 4, 6]"
      ]
     },
     "execution_count": 3,
     "metadata": {},
     "output_type": "execute_result"
    }
   ],
   "source": [
    "l =[1,2,3,4,6]\n",
    "l"
   ]
  },
  {
   "cell_type": "code",
   "execution_count": 4,
   "id": "07f35c20",
   "metadata": {},
   "outputs": [
    {
     "name": "stdout",
     "output_type": "stream",
     "text": [
      "try again\n"
     ]
    }
   ],
   "source": [
    "if 72 in l:\n",
    "    print(\"add number\")\n",
    "elif 9 in l:\n",
    "    print(\"number is present\")\n",
    "else:\n",
    "    print(\"try again\")"
   ]
  },
  {
   "cell_type": "code",
   "execution_count": 11,
   "id": "d254e539",
   "metadata": {
    "scrolled": true
   },
   "outputs": [
    {
     "name": "stdout",
     "output_type": "stream",
     "text": [
      "Enter a Number :35\n",
      "a is greater than 10\n",
      "a is greater than 20\n",
      "a is greater than 30\n",
      "a is grater than 30 but less than 40\n"
     ]
    }
   ],
   "source": [
    "a =int(input(\"Enter a Number :\"))\n",
    "if a>10:\n",
    "    print(\"a is greater than 10\")\n",
    "    if a>20:\n",
    "        print(\"a is greater than 20\")\n",
    "        if a>30:\n",
    "            print(\"a is greater than 30\")\n",
    "            if a>40:\n",
    "                print(\"a is greter than 40\")\n",
    "            else:\n",
    "                print(\"a is grater than 30 but less than 40\")\n",
    "        else:\n",
    "            print(\"a is greater than 20 but less than 30\")\n",
    "    else:\n",
    "        print(\"a is greater than 10 but less than 20\")\n",
    "else:\n",
    "    print(\"a is smaller\")\n",
    "            "
   ]
  },
  {
   "cell_type": "markdown",
   "id": "53f2b82a",
   "metadata": {},
   "source": [
    "# username and password (logical)"
   ]
  },
  {
   "cell_type": "code",
   "execution_count": null,
   "id": "30bc663d",
   "metadata": {},
   "outputs": [],
   "source": [
    "Username =input(\"Enter your username :\")\n",
    "Password =input(\"Enter your password :\")\n",
    "if Username ==\"Rahul\" or Password ==\"Ankita\":\n",
    "    print(\"username varifid\")\n",
    "else:\n",
    "    print(\"enter valid username\")"
   ]
  },
  {
   "cell_type": "code",
   "execution_count": null,
   "id": "e110edb2",
   "metadata": {},
   "outputs": [],
   "source": []
  }
 ],
 "metadata": {
  "kernelspec": {
   "display_name": "Python 3 (ipykernel)",
   "language": "python",
   "name": "python3"
  },
  "language_info": {
   "codemirror_mode": {
    "name": "ipython",
    "version": 3
   },
   "file_extension": ".py",
   "mimetype": "text/x-python",
   "name": "python",
   "nbconvert_exporter": "python",
   "pygments_lexer": "ipython3",
   "version": "3.9.13"
  }
 },
 "nbformat": 4,
 "nbformat_minor": 5
}
